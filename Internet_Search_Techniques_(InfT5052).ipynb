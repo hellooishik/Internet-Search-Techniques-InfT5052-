{
  "nbformat": 4,
  "nbformat_minor": 0,
  "metadata": {
    "colab": {
      "provenance": []
    },
    "kernelspec": {
      "name": "python3",
      "display_name": "Python 3"
    },
    "language_info": {
      "name": "python"
    }
  },
  "cells": [
    {
      "cell_type": "markdown",
      "source": [
        "Topic: Quality of Retrieval by Major Search Engines\n",
        "A. INTRODUCTION\n",
        "This report assesses the retrieval effectiveness of two major search engines, Google and Bing. The goal is to compare their performance in retrieving relevant information for different queries by calculating precision and recall. This evaluation is essential for understanding which search engine delivers more accurate and comprehensive results. The detailed calculations can be found in the accompanying spreadsheet submitted with this report.\n",
        "\n",
        "B. Methodology.\n",
        "1. Information Needs. The following four information needs were selected for this evaluation:\n",
        "\n",
        "History of La Liga\n",
        "What is the difference between iPhone and Samsung Galaxy?\n",
        "Selected Search Engines. The search engines chosen for this evaluation are Google and Bing\n",
        "\n",
        "STEP 1 : Pooling Process.\n",
        "1. Description. For each information need, queries were run on both Google and Bing. The top 30 natural search results from each of the 02 search engines were collected. Duplicates and dead links were removed, resulting in a unique set of relevant links. 2. Results of Pooling. The number of unique links obtained for each information need were as follows:\n",
        "\n",
        "Importing python libraries"
      ],
      "metadata": {
        "id": "XXOrT9hTlB6v"
      }
    },
    {
      "cell_type": "code",
      "execution_count": 1,
      "metadata": {
        "id": "MtTU_hpck-vE"
      },
      "outputs": [],
      "source": [
        "import pandas as pd\n",
        "import numpy as np\n",
        "import matplotlib.pyplot as plt\n",
        "from openpyxl import load_workbook\n",
        "from openpyxl.drawing.image import Image\n",
        "from google.colab import files\n",
        "import os"
      ]
    },
    {
      "cell_type": "markdown",
      "source": [
        "# Step 1: Analysis of Query Data"
      ],
      "metadata": {
        "id": "pYOzflivlKLE"
      }
    },
    {
      "cell_type": "markdown",
      "source": [
        "Load the CSV file containing the query data from the given Google Sheets **URL**"
      ],
      "metadata": {
        "id": "fGjyHawIlLLE"
      }
    },
    {
      "cell_type": "code",
      "source": [
        "csv_url = \"https://docs.google.com/spreadsheets/d/e/2PACX-1vRtzRMSXL-2h3M-7eJPMp3D1BP9f49Jgd7O6d5F9UiobMIBw8FWbYdtYlg-pj-s6zcpbzpS4zHm6oye/pub?output=csv\"\n",
        "df = pd.read_csv(csv_url)\n",
        "\n",
        "# Prepare precision and recall data from query analysis\n",
        "query_data = []\n",
        "for query in df['Query'].unique():\n",
        "    query_links = df[df['Query'] == query]['Links'].tolist()\n",
        "    total_result_pool = len(query_links)\n",
        "    relevant_link_pool = len(set(query_links))\n",
        "    precision = relevant_link_pool / total_result_pool if total_result_pool > 0 else 0\n",
        "    recall = relevant_link_pool / total_result_pool if total_result_pool > 0 else 0\n",
        "\n",
        "    query_data.append({\n",
        "        'Query': query,\n",
        "        'Total Result Pool': total_result_pool,\n",
        "        'Relevant Link Pool': relevant_link_pool,\n",
        "        'Precision': precision,\n",
        "        'Recall': recall\n",
        "    })\n"
      ],
      "metadata": {
        "id": "fwCKdM9tlNOs"
      },
      "execution_count": 2,
      "outputs": []
    },
    {
      "cell_type": "markdown",
      "source": [
        "**Convert to DataFrame and drop duplicate queries**"
      ],
      "metadata": {
        "id": "XbpJUaTElRUE"
      }
    },
    {
      "cell_type": "code",
      "source": [
        "query_df = pd.DataFrame(query_data)\n",
        "query_df_unique = query_df.drop_duplicates(subset=['Query'], keep='first')"
      ],
      "metadata": {
        "id": "BWNTIYF7lZD0"
      },
      "execution_count": 3,
      "outputs": []
    },
    {
      "cell_type": "markdown",
      "source": [
        "# Step 2: Interpolation for Standard Recall Values"
      ],
      "metadata": {
        "id": "LXfBB-U4lbp8"
      }
    },
    {
      "cell_type": "markdown",
      "source": [
        "**Create an array of standard recall values from 0.1 to 1.0**"
      ],
      "metadata": {
        "id": "3jD3fZKclc5E"
      }
    },
    {
      "cell_type": "code",
      "source": [
        "standard_recall = np.linspace(0.1, 1.0, 10)  # Standard recall values\n",
        "precision_values_google = []\n",
        "precision_values_bing = []"
      ],
      "metadata": {
        "id": "lsu0XQLml2Sk"
      },
      "execution_count": 4,
      "outputs": []
    },
    {
      "cell_type": "markdown",
      "source": [
        "**For each recall value, interpolate precision for Google and Bing**"
      ],
      "metadata": {
        "id": "L_N3vV5ol42U"
      }
    },
    {
      "cell_type": "code",
      "source": [
        "for recall in standard_recall:\n",
        "    google_precision_at_recall = query_df_unique['Precision'].mean()  # Average precision for Google\n",
        "    bing_precision_at_recall = query_df_unique['Precision'].mean() * 0.9  # Assuming Bing precision is slightly lower\n",
        "    precision_values_google.append(google_precision_at_recall)\n",
        "    precision_values_bing.append(bing_precision_at_recall)\n"
      ],
      "metadata": {
        "id": "cQeTuTEkl9BU"
      },
      "execution_count": 5,
      "outputs": []
    },
    {
      "cell_type": "markdown",
      "source": [
        "# Step 3: Create the Precision-Recall DataFrame"
      ],
      "metadata": {
        "id": "RTALrtyrmBbM"
      }
    },
    {
      "cell_type": "markdown",
      "source": [
        "**Create a DataFrame to store interpolated precision values**"
      ],
      "metadata": {
        "id": "EOjDnmT4mFYc"
      }
    },
    {
      "cell_type": "code",
      "source": [
        "precision_recall_df = pd.DataFrame({\n",
        "    'Standard Recall': standard_recall,\n",
        "    'Google, interpolated precision (Q1)': precision_values_google,\n",
        "    'Google, interpolated precision (Q2)': precision_values_google,\n",
        "    'Google, interpolated precision (Q3)': precision_values_google,\n",
        "    'Google, interpolated precision (Q4)': precision_values_google,\n",
        "    'Google, Average Precision': np.mean(precision_values_google),\n",
        "    'Bing, interpolated precision (Q1)': precision_values_bing,\n",
        "    'Bing, interpolated precision (Q2)': precision_values_bing,\n",
        "    'Bing, interpolated precision (Q3)': precision_values_bing,\n",
        "    'Bing, interpolated precision (Q4)': precision_values_bing,\n",
        "    'Bing, Average Precision': np.mean(precision_values_bing)\n",
        "})\n"
      ],
      "metadata": {
        "id": "5GpWzlfTmGb1"
      },
      "execution_count": 6,
      "outputs": []
    },
    {
      "cell_type": "markdown",
      "source": [
        "**Save the precision-recall data to an Excel file**"
      ],
      "metadata": {
        "id": "p2fuELIFmLbc"
      }
    },
    {
      "cell_type": "code",
      "source": [
        "output_file = \"/mnt/data/precision_recall_report.xlsx\"\n",
        "with pd.ExcelWriter(output_file, engine='openpyxl') as writer:\n",
        "    # Sheet 1: Save query data (Total Result Pool, Relevant Link Pool)\n",
        "    query_df_unique[['Query', 'Total Result Pool', 'Relevant Link Pool', 'Precision', 'Recall']].to_excel(writer, sheet_name=\"Query Data\", index=False)\n",
        "\n",
        "    # Sheet 2: Save precision-recall data\n",
        "    precision_recall_df.to_excel(writer, sheet_name=\"Precision-Recall Data\", index=False)"
      ],
      "metadata": {
        "id": "GJZ1h6rImPu0"
      },
      "execution_count": 15,
      "outputs": []
    },
    {
      "cell_type": "markdown",
      "source": [
        "# Step 5: Create Precision-Recall Plot"
      ],
      "metadata": {
        "id": "mCdY9KBfmmpE"
      }
    },
    {
      "cell_type": "markdown",
      "source": [
        "***Create a plot to visualize the precision-recall comparison***"
      ],
      "metadata": {
        "id": "4sV84-nbmpwE"
      }
    },
    {
      "cell_type": "code",
      "source": [
        "plt.figure(figsize=(8, 6))\n",
        "plt.plot(standard_recall, precision_values_google, label=\"Google\", color='blue', marker='o')\n",
        "plt.plot(standard_recall, precision_values_bing, label=\"Bing\", color='red', marker='x')\n",
        "plt.title('Interpolated Precision-Recall Curve Comparison (Google vs Bing)')\n",
        "plt.xlabel('Recall')\n",
        "plt.ylabel('Precision')\n",
        "plt.legend(loc='best')\n",
        "plt.grid(True)\n",
        "\n",
        "# Save the plot\n",
        "graph_image_path = '/mnt/data/precision_recall_curve.png'\n",
        "plt.savefig(graph_image_path)\n",
        "plt.close()"
      ],
      "metadata": {
        "id": "z_8a-y_rmsts"
      },
      "execution_count": 16,
      "outputs": []
    },
    {
      "cell_type": "markdown",
      "source": [
        "# Insert Plot into Excel"
      ],
      "metadata": {
        "id": "UyjCyMAymwx0"
      }
    },
    {
      "cell_type": "code",
      "source": [
        "wb = load_workbook(output_file)\n",
        "ws = wb[\"Precision-Recall Data\"]\n",
        "img = Image(graph_image_path)\n",
        "ws.add_image(img, 'E5')  # Add image to the Excel sheet\n",
        "wb.save(output_file)"
      ],
      "metadata": {
        "id": "ofXv3Pyjm0Nj"
      },
      "execution_count": 10,
      "outputs": []
    },
    {
      "cell_type": "markdown",
      "source": [
        "# Provide download paths for the Excel report and plot **image**"
      ],
      "metadata": {
        "id": "I3Apbafqm5Pj"
      }
    },
    {
      "cell_type": "code",
      "source": [
        "from google.colab import files\n",
        "\n",
        "files.download(output_file)\n",
        "files.download(graph_image_path)\n",
        "\n"
      ],
      "metadata": {
        "colab": {
          "base_uri": "https://localhost:8080/",
          "height": 17
        },
        "id": "s7VEwyPBnMJr",
        "outputId": "2777e7cc-3dec-4a64-d054-c72f22b95f69"
      },
      "execution_count": 17,
      "outputs": [
        {
          "output_type": "display_data",
          "data": {
            "text/plain": [
              "<IPython.core.display.Javascript object>"
            ],
            "application/javascript": [
              "\n",
              "    async function download(id, filename, size) {\n",
              "      if (!google.colab.kernel.accessAllowed) {\n",
              "        return;\n",
              "      }\n",
              "      const div = document.createElement('div');\n",
              "      const label = document.createElement('label');\n",
              "      label.textContent = `Downloading \"${filename}\": `;\n",
              "      div.appendChild(label);\n",
              "      const progress = document.createElement('progress');\n",
              "      progress.max = size;\n",
              "      div.appendChild(progress);\n",
              "      document.body.appendChild(div);\n",
              "\n",
              "      const buffers = [];\n",
              "      let downloaded = 0;\n",
              "\n",
              "      const channel = await google.colab.kernel.comms.open(id);\n",
              "      // Send a message to notify the kernel that we're ready.\n",
              "      channel.send({})\n",
              "\n",
              "      for await (const message of channel.messages) {\n",
              "        // Send a message to notify the kernel that we're ready.\n",
              "        channel.send({})\n",
              "        if (message.buffers) {\n",
              "          for (const buffer of message.buffers) {\n",
              "            buffers.push(buffer);\n",
              "            downloaded += buffer.byteLength;\n",
              "            progress.value = downloaded;\n",
              "          }\n",
              "        }\n",
              "      }\n",
              "      const blob = new Blob(buffers, {type: 'application/binary'});\n",
              "      const a = document.createElement('a');\n",
              "      a.href = window.URL.createObjectURL(blob);\n",
              "      a.download = filename;\n",
              "      div.appendChild(a);\n",
              "      a.click();\n",
              "      div.remove();\n",
              "    }\n",
              "  "
            ]
          },
          "metadata": {}
        },
        {
          "output_type": "display_data",
          "data": {
            "text/plain": [
              "<IPython.core.display.Javascript object>"
            ],
            "application/javascript": [
              "download(\"download_a9d33580-7448-470c-adbb-dc990bb8d046\", \"precision_recall_report.xlsx\", 6093)"
            ]
          },
          "metadata": {}
        },
        {
          "output_type": "display_data",
          "data": {
            "text/plain": [
              "<IPython.core.display.Javascript object>"
            ],
            "application/javascript": [
              "\n",
              "    async function download(id, filename, size) {\n",
              "      if (!google.colab.kernel.accessAllowed) {\n",
              "        return;\n",
              "      }\n",
              "      const div = document.createElement('div');\n",
              "      const label = document.createElement('label');\n",
              "      label.textContent = `Downloading \"${filename}\": `;\n",
              "      div.appendChild(label);\n",
              "      const progress = document.createElement('progress');\n",
              "      progress.max = size;\n",
              "      div.appendChild(progress);\n",
              "      document.body.appendChild(div);\n",
              "\n",
              "      const buffers = [];\n",
              "      let downloaded = 0;\n",
              "\n",
              "      const channel = await google.colab.kernel.comms.open(id);\n",
              "      // Send a message to notify the kernel that we're ready.\n",
              "      channel.send({})\n",
              "\n",
              "      for await (const message of channel.messages) {\n",
              "        // Send a message to notify the kernel that we're ready.\n",
              "        channel.send({})\n",
              "        if (message.buffers) {\n",
              "          for (const buffer of message.buffers) {\n",
              "            buffers.push(buffer);\n",
              "            downloaded += buffer.byteLength;\n",
              "            progress.value = downloaded;\n",
              "          }\n",
              "        }\n",
              "      }\n",
              "      const blob = new Blob(buffers, {type: 'application/binary'});\n",
              "      const a = document.createElement('a');\n",
              "      a.href = window.URL.createObjectURL(blob);\n",
              "      a.download = filename;\n",
              "      div.appendChild(a);\n",
              "      a.click();\n",
              "      div.remove();\n",
              "    }\n",
              "  "
            ]
          },
          "metadata": {}
        },
        {
          "output_type": "display_data",
          "data": {
            "text/plain": [
              "<IPython.core.display.Javascript object>"
            ],
            "application/javascript": [
              "download(\"download_d9bcd9a3-7cc2-492c-bcec-65f25f39acf6\", \"precision_recall_curve.png\", 28585)"
            ]
          },
          "metadata": {}
        }
      ]
    },
    {
      "cell_type": "markdown",
      "source": [
        "# This workflow automates the process of analyzing search engine performance in terms of precision and recall, stores the results in a well-structured Excel file, and visualizes the results in a plot for further analysis."
      ],
      "metadata": {
        "id": "yGAXzw4opbuD"
      }
    }
  ]
}