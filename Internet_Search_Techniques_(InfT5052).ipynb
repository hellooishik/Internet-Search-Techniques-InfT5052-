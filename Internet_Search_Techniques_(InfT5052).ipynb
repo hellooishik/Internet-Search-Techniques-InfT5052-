{
  "nbformat": 4,
  "nbformat_minor": 0,
  "metadata": {
    "colab": {
      "provenance": [],
      "authorship_tag": "ABX9TyM7xUeE2vJGImcM4nZJJ84p",
      "include_colab_link": true
    },
    "kernelspec": {
      "name": "python3",
      "display_name": "Python 3"
    },
    "language_info": {
      "name": "python"
    }
  },
  "cells": [
    {
      "cell_type": "markdown",
      "metadata": {
        "id": "view-in-github",
        "colab_type": "text"
      },
      "source": [
        "<a href=\"https://colab.research.google.com/github/hellooishik/Internet-Search-Techniques-InfT5052-/blob/main/Internet_Search_Techniques_(InfT5052).ipynb\" target=\"_parent\"><img src=\"https://colab.research.google.com/assets/colab-badge.svg\" alt=\"Open In Colab\"/></a>"
      ]
    },
    {
      "cell_type": "markdown",
      "source": [
        "# Topic: Quality of Retrieval by Major Search Engines"
      ],
      "metadata": {
        "id": "WQkzfh3ewZFL"
      }
    },
    {
      "cell_type": "markdown",
      "source": [
        "# A. INTRODUCTION"
      ],
      "metadata": {
        "id": "NLm2f9U1wljp"
      }
    },
    {
      "cell_type": "markdown",
      "source": [
        "This report assesses the retrieval effectiveness of two major search engines, Google and Bing. The goal is to compare their performance in retrieving relevant information for different queries by calculating precision and recall. This evaluation is essential for understanding which search engine delivers more accurate and comprehensive results. The detailed calculations can be found in the accompanying spreadsheet submitted with this report."
      ],
      "metadata": {
        "id": "niNEnqNNw9h5"
      }
    },
    {
      "cell_type": "markdown",
      "source": [
        "# B. Methodology."
      ],
      "metadata": {
        "id": "_lmhF4BWxXlo"
      }
    },
    {
      "cell_type": "markdown",
      "source": [
        "**1. Information Needs.**\n",
        "*The following four information needs were selected for this evaluation:*\n",
        "\n",
        "\n",
        "1.   History of La Liga\n",
        "2.   What is the difference between iPhone and Samsung Galaxy?\n",
        "\n",
        "\n",
        "\n",
        "**Selected Search Engines.**\n",
        "The search engines chosen for this evaluation are Google and Bing"
      ],
      "metadata": {
        "id": "HFbKEADmxYtx"
      }
    },
    {
      "cell_type": "markdown",
      "source": [
        "# STEP 1 : Pooling Process."
      ],
      "metadata": {
        "id": "Rd9VqkLey3-J"
      }
    },
    {
      "cell_type": "markdown",
      "source": [
        "**1. Description.**\n",
        "*For each information need, queries were run on both Google and Bing. The top 30 natural search results from each of the 02 search engines were collected. Duplicates and dead links were removed, resulting in a unique set of relevant links.*\n",
        "**2. Results of Pooling.**\n",
        "The number of unique links obtained for each information need were as follows:"
      ],
      "metadata": {
        "id": "jg1bSLYBzPvg"
      }
    },
    {
      "cell_type": "markdown",
      "source": [
        "# Importing python libraries"
      ],
      "metadata": {
        "id": "6qRan7IXzd6I"
      }
    },
    {
      "cell_type": "code",
      "execution_count": 32,
      "metadata": {
        "id": "NyTVrLPgwNo4"
      },
      "outputs": [],
      "source": [
        "import pandas as pd\n",
        "import numpy as np\n",
        "import matplotlib.pyplot as plt\n",
        "from openpyxl import load_workbook\n",
        "from openpyxl.drawing.image import Image\n",
        "from google.colab import files\n",
        "import os"
      ]
    },
    {
      "cell_type": "markdown",
      "source": [
        "Importing The Dataset"
      ],
      "metadata": {
        "id": "gTu-jNrS0Vek"
      }
    },
    {
      "cell_type": "code",
      "source": [
        "# Ensure the directory exists\n",
        "os.makedirs('/mnt/data', exist_ok=True)\n",
        "\n",
        "# Step 1: Load Data from CSV (Adding New Queries)\n",
        "csv_url = \"https://docs.google.com/spreadsheets/d/e/2PACX-1vRtzRMSXL-2h3M-7eJPMp3D1BP9f49Jgd7O6d5F9UiobMIBw8FWbYdtYlg-pj-s6zcpbzpS4zHm6oye/pub?output=csv\"\n",
        "print(\"Loading data from CSV...\")\n",
        "df = pd.read_csv(csv_url)"
      ],
      "metadata": {
        "colab": {
          "base_uri": "https://localhost:8080/"
        },
        "id": "Do08Unlp0ZlB",
        "outputId": "a8206fdf-f530-4ed5-c5b7-310e118e6b3d"
      },
      "execution_count": 33,
      "outputs": [
        {
          "output_type": "stream",
          "name": "stdout",
          "text": [
            "Loading data from CSV...\n"
          ]
        }
      ]
    },
    {
      "cell_type": "markdown",
      "source": [
        "Adding queries **manually**"
      ],
      "metadata": {
        "id": "pSN6W0ov0iuY"
      }
    },
    {
      "cell_type": "code",
      "source": [],
      "metadata": {
        "id": "U_PNn_HmeHwR"
      },
      "execution_count": null,
      "outputs": []
    },
    {
      "cell_type": "code",
      "source": [
        "new_queries = [\"History of La Liga\", \"What is the difference between iPhone and Samsung Galaxy?\"]\n",
        "new_links = [\"https://example.com/laliga-history\", \"https://example.com/iphone-vs-samsung\"]\n",
        "\n",
        "# Append new queries and links to the dataframe\n",
        "df_new = pd.DataFrame({\n",
        "    \"Query\": new_queries,\n",
        "    \"Links\": new_links\n",
        "})\n",
        "df = pd.concat([df, df_new], ignore_index=True)"
      ],
      "metadata": {
        "id": "jflZBSqxzyBR"
      },
      "execution_count": 34,
      "outputs": []
    },
    {
      "cell_type": "markdown",
      "source": [
        "# Step 2 - Calculate Unique Links and Relevant Link Pool"
      ],
      "metadata": {
        "id": "HHEfnlze0tgY"
      }
    },
    {
      "cell_type": "code",
      "source": [
        "query_data = []\n",
        "\n",
        "for query in df['Query'].unique():\n",
        "    # Get all links associated with the query\n",
        "    query_links = df[df['Query'] == query]['Links'].tolist()\n",
        "\n",
        "    # Total result pool is the total number of links associated with the query\n",
        "    total_result_pool = len(query_links)\n",
        "\n",
        "    # Relevant link pool is the number of unique links (to eliminate duplicates)\n",
        "    relevant_link_pool = len(set(query_links))\n",
        "\n",
        "    query_data.append({\n",
        "        'Query': query,\n",
        "        'Total Result Pool': total_result_pool,\n",
        "        'Relevant Link Pool': relevant_link_pool\n",
        "    })\n",
        "\n",
        "# Convert to DataFrame\n",
        "query_df = pd.DataFrame(query_data)\n",
        "\n",
        "# Remove any duplicate queries (case-insensitive)\n",
        "query_df['Query'] = query_df['Query'].str.strip().str.lower()  # Normalize queries\n",
        "query_df_unique = query_df.drop_duplicates(subset=['Query'], keep='first')\n",
        "\n",
        "# Save to Excel\n",
        "output_file = \"/mnt/data/precision_recall_report.xlsx\"\n",
        "\n",
        "with pd.ExcelWriter(output_file, engine='openpyxl') as writer:\n",
        "    # Step 1: Save query data to Excel\n",
        "    query_df_unique.to_excel(writer, sheet_name=\"Step 1 - Query Data\", index=False)\n",
        "\n",
        "# Load the workbook and continue with other steps\n",
        "from openpyxl import load_workbook\n",
        "wb = load_workbook(output_file)\n",
        "ws = wb[\"Step 1 - Query Data\"]\n",
        "\n",
        "# Save the workbook\n",
        "wb.save(output_file)\n",
        "\n",
        "print(f\"Excel report saved to '{output_file}'.\")\n",
        "files.download(output_file)  # Allow user to download the file\n",
        "# Show the top 5 rows after cleaning and removing duplicates\n",
        "query_df_unique.head(5)"
      ],
      "metadata": {
        "colab": {
          "base_uri": "https://localhost:8080/",
          "height": 129
        },
        "id": "98gR2amI01ao",
        "outputId": "7a7f420c-6ad1-47be-a2b7-7935cfa670a5"
      },
      "execution_count": 40,
      "outputs": [
        {
          "output_type": "stream",
          "name": "stdout",
          "text": [
            "Excel report saved to '/mnt/data/precision_recall_report.xlsx'.\n"
          ]
        },
        {
          "output_type": "display_data",
          "data": {
            "text/plain": [
              "<IPython.core.display.Javascript object>"
            ],
            "application/javascript": [
              "\n",
              "    async function download(id, filename, size) {\n",
              "      if (!google.colab.kernel.accessAllowed) {\n",
              "        return;\n",
              "      }\n",
              "      const div = document.createElement('div');\n",
              "      const label = document.createElement('label');\n",
              "      label.textContent = `Downloading \"${filename}\": `;\n",
              "      div.appendChild(label);\n",
              "      const progress = document.createElement('progress');\n",
              "      progress.max = size;\n",
              "      div.appendChild(progress);\n",
              "      document.body.appendChild(div);\n",
              "\n",
              "      const buffers = [];\n",
              "      let downloaded = 0;\n",
              "\n",
              "      const channel = await google.colab.kernel.comms.open(id);\n",
              "      // Send a message to notify the kernel that we're ready.\n",
              "      channel.send({})\n",
              "\n",
              "      for await (const message of channel.messages) {\n",
              "        // Send a message to notify the kernel that we're ready.\n",
              "        channel.send({})\n",
              "        if (message.buffers) {\n",
              "          for (const buffer of message.buffers) {\n",
              "            buffers.push(buffer);\n",
              "            downloaded += buffer.byteLength;\n",
              "            progress.value = downloaded;\n",
              "          }\n",
              "        }\n",
              "      }\n",
              "      const blob = new Blob(buffers, {type: 'application/binary'});\n",
              "      const a = document.createElement('a');\n",
              "      a.href = window.URL.createObjectURL(blob);\n",
              "      a.download = filename;\n",
              "      div.appendChild(a);\n",
              "      a.click();\n",
              "      div.remove();\n",
              "    }\n",
              "  "
            ]
          },
          "metadata": {}
        },
        {
          "output_type": "display_data",
          "data": {
            "text/plain": [
              "<IPython.core.display.Javascript object>"
            ],
            "application/javascript": [
              "download(\"download_5db0e899-26dc-473b-9a34-e7ffcf7f4de9\", \"precision_recall_report.xlsx\", 5063)"
            ]
          },
          "metadata": {}
        },
        {
          "output_type": "execute_result",
          "data": {
            "text/plain": [
              "                                               Query  Total Result Pool  \\\n",
              "0                                 history of la liga                 60   \n",
              "1  what is the difference between iphone and sams...                 62   \n",
              "\n",
              "   Relevant Link Pool  \n",
              "0                  30  \n",
              "1                  56  "
            ],
            "text/html": [
              "\n",
              "  <div id=\"df-66f57ea7-ea32-4509-9618-466324e4fd67\" class=\"colab-df-container\">\n",
              "    <div>\n",
              "<style scoped>\n",
              "    .dataframe tbody tr th:only-of-type {\n",
              "        vertical-align: middle;\n",
              "    }\n",
              "\n",
              "    .dataframe tbody tr th {\n",
              "        vertical-align: top;\n",
              "    }\n",
              "\n",
              "    .dataframe thead th {\n",
              "        text-align: right;\n",
              "    }\n",
              "</style>\n",
              "<table border=\"1\" class=\"dataframe\">\n",
              "  <thead>\n",
              "    <tr style=\"text-align: right;\">\n",
              "      <th></th>\n",
              "      <th>Query</th>\n",
              "      <th>Total Result Pool</th>\n",
              "      <th>Relevant Link Pool</th>\n",
              "    </tr>\n",
              "  </thead>\n",
              "  <tbody>\n",
              "    <tr>\n",
              "      <th>0</th>\n",
              "      <td>history of la liga</td>\n",
              "      <td>60</td>\n",
              "      <td>30</td>\n",
              "    </tr>\n",
              "    <tr>\n",
              "      <th>1</th>\n",
              "      <td>what is the difference between iphone and sams...</td>\n",
              "      <td>62</td>\n",
              "      <td>56</td>\n",
              "    </tr>\n",
              "  </tbody>\n",
              "</table>\n",
              "</div>\n",
              "    <div class=\"colab-df-buttons\">\n",
              "\n",
              "  <div class=\"colab-df-container\">\n",
              "    <button class=\"colab-df-convert\" onclick=\"convertToInteractive('df-66f57ea7-ea32-4509-9618-466324e4fd67')\"\n",
              "            title=\"Convert this dataframe to an interactive table.\"\n",
              "            style=\"display:none;\">\n",
              "\n",
              "  <svg xmlns=\"http://www.w3.org/2000/svg\" height=\"24px\" viewBox=\"0 -960 960 960\">\n",
              "    <path d=\"M120-120v-720h720v720H120Zm60-500h600v-160H180v160Zm220 220h160v-160H400v160Zm0 220h160v-160H400v160ZM180-400h160v-160H180v160Zm440 0h160v-160H620v160ZM180-180h160v-160H180v160Zm440 0h160v-160H620v160Z\"/>\n",
              "  </svg>\n",
              "    </button>\n",
              "\n",
              "  <style>\n",
              "    .colab-df-container {\n",
              "      display:flex;\n",
              "      gap: 12px;\n",
              "    }\n",
              "\n",
              "    .colab-df-convert {\n",
              "      background-color: #E8F0FE;\n",
              "      border: none;\n",
              "      border-radius: 50%;\n",
              "      cursor: pointer;\n",
              "      display: none;\n",
              "      fill: #1967D2;\n",
              "      height: 32px;\n",
              "      padding: 0 0 0 0;\n",
              "      width: 32px;\n",
              "    }\n",
              "\n",
              "    .colab-df-convert:hover {\n",
              "      background-color: #E2EBFA;\n",
              "      box-shadow: 0px 1px 2px rgba(60, 64, 67, 0.3), 0px 1px 3px 1px rgba(60, 64, 67, 0.15);\n",
              "      fill: #174EA6;\n",
              "    }\n",
              "\n",
              "    .colab-df-buttons div {\n",
              "      margin-bottom: 4px;\n",
              "    }\n",
              "\n",
              "    [theme=dark] .colab-df-convert {\n",
              "      background-color: #3B4455;\n",
              "      fill: #D2E3FC;\n",
              "    }\n",
              "\n",
              "    [theme=dark] .colab-df-convert:hover {\n",
              "      background-color: #434B5C;\n",
              "      box-shadow: 0px 1px 3px 1px rgba(0, 0, 0, 0.15);\n",
              "      filter: drop-shadow(0px 1px 2px rgba(0, 0, 0, 0.3));\n",
              "      fill: #FFFFFF;\n",
              "    }\n",
              "  </style>\n",
              "\n",
              "    <script>\n",
              "      const buttonEl =\n",
              "        document.querySelector('#df-66f57ea7-ea32-4509-9618-466324e4fd67 button.colab-df-convert');\n",
              "      buttonEl.style.display =\n",
              "        google.colab.kernel.accessAllowed ? 'block' : 'none';\n",
              "\n",
              "      async function convertToInteractive(key) {\n",
              "        const element = document.querySelector('#df-66f57ea7-ea32-4509-9618-466324e4fd67');\n",
              "        const dataTable =\n",
              "          await google.colab.kernel.invokeFunction('convertToInteractive',\n",
              "                                                    [key], {});\n",
              "        if (!dataTable) return;\n",
              "\n",
              "        const docLinkHtml = 'Like what you see? Visit the ' +\n",
              "          '<a target=\"_blank\" href=https://colab.research.google.com/notebooks/data_table.ipynb>data table notebook</a>'\n",
              "          + ' to learn more about interactive tables.';\n",
              "        element.innerHTML = '';\n",
              "        dataTable['output_type'] = 'display_data';\n",
              "        await google.colab.output.renderOutput(dataTable, element);\n",
              "        const docLink = document.createElement('div');\n",
              "        docLink.innerHTML = docLinkHtml;\n",
              "        element.appendChild(docLink);\n",
              "      }\n",
              "    </script>\n",
              "  </div>\n",
              "\n",
              "\n",
              "<div id=\"df-87a1afc6-c2c1-49ce-95cb-b3af73942fc1\">\n",
              "  <button class=\"colab-df-quickchart\" onclick=\"quickchart('df-87a1afc6-c2c1-49ce-95cb-b3af73942fc1')\"\n",
              "            title=\"Suggest charts\"\n",
              "            style=\"display:none;\">\n",
              "\n",
              "<svg xmlns=\"http://www.w3.org/2000/svg\" height=\"24px\"viewBox=\"0 0 24 24\"\n",
              "     width=\"24px\">\n",
              "    <g>\n",
              "        <path d=\"M19 3H5c-1.1 0-2 .9-2 2v14c0 1.1.9 2 2 2h14c1.1 0 2-.9 2-2V5c0-1.1-.9-2-2-2zM9 17H7v-7h2v7zm4 0h-2V7h2v10zm4 0h-2v-4h2v4z\"/>\n",
              "    </g>\n",
              "</svg>\n",
              "  </button>\n",
              "\n",
              "<style>\n",
              "  .colab-df-quickchart {\n",
              "      --bg-color: #E8F0FE;\n",
              "      --fill-color: #1967D2;\n",
              "      --hover-bg-color: #E2EBFA;\n",
              "      --hover-fill-color: #174EA6;\n",
              "      --disabled-fill-color: #AAA;\n",
              "      --disabled-bg-color: #DDD;\n",
              "  }\n",
              "\n",
              "  [theme=dark] .colab-df-quickchart {\n",
              "      --bg-color: #3B4455;\n",
              "      --fill-color: #D2E3FC;\n",
              "      --hover-bg-color: #434B5C;\n",
              "      --hover-fill-color: #FFFFFF;\n",
              "      --disabled-bg-color: #3B4455;\n",
              "      --disabled-fill-color: #666;\n",
              "  }\n",
              "\n",
              "  .colab-df-quickchart {\n",
              "    background-color: var(--bg-color);\n",
              "    border: none;\n",
              "    border-radius: 50%;\n",
              "    cursor: pointer;\n",
              "    display: none;\n",
              "    fill: var(--fill-color);\n",
              "    height: 32px;\n",
              "    padding: 0;\n",
              "    width: 32px;\n",
              "  }\n",
              "\n",
              "  .colab-df-quickchart:hover {\n",
              "    background-color: var(--hover-bg-color);\n",
              "    box-shadow: 0 1px 2px rgba(60, 64, 67, 0.3), 0 1px 3px 1px rgba(60, 64, 67, 0.15);\n",
              "    fill: var(--button-hover-fill-color);\n",
              "  }\n",
              "\n",
              "  .colab-df-quickchart-complete:disabled,\n",
              "  .colab-df-quickchart-complete:disabled:hover {\n",
              "    background-color: var(--disabled-bg-color);\n",
              "    fill: var(--disabled-fill-color);\n",
              "    box-shadow: none;\n",
              "  }\n",
              "\n",
              "  .colab-df-spinner {\n",
              "    border: 2px solid var(--fill-color);\n",
              "    border-color: transparent;\n",
              "    border-bottom-color: var(--fill-color);\n",
              "    animation:\n",
              "      spin 1s steps(1) infinite;\n",
              "  }\n",
              "\n",
              "  @keyframes spin {\n",
              "    0% {\n",
              "      border-color: transparent;\n",
              "      border-bottom-color: var(--fill-color);\n",
              "      border-left-color: var(--fill-color);\n",
              "    }\n",
              "    20% {\n",
              "      border-color: transparent;\n",
              "      border-left-color: var(--fill-color);\n",
              "      border-top-color: var(--fill-color);\n",
              "    }\n",
              "    30% {\n",
              "      border-color: transparent;\n",
              "      border-left-color: var(--fill-color);\n",
              "      border-top-color: var(--fill-color);\n",
              "      border-right-color: var(--fill-color);\n",
              "    }\n",
              "    40% {\n",
              "      border-color: transparent;\n",
              "      border-right-color: var(--fill-color);\n",
              "      border-top-color: var(--fill-color);\n",
              "    }\n",
              "    60% {\n",
              "      border-color: transparent;\n",
              "      border-right-color: var(--fill-color);\n",
              "    }\n",
              "    80% {\n",
              "      border-color: transparent;\n",
              "      border-right-color: var(--fill-color);\n",
              "      border-bottom-color: var(--fill-color);\n",
              "    }\n",
              "    90% {\n",
              "      border-color: transparent;\n",
              "      border-bottom-color: var(--fill-color);\n",
              "    }\n",
              "  }\n",
              "</style>\n",
              "\n",
              "  <script>\n",
              "    async function quickchart(key) {\n",
              "      const quickchartButtonEl =\n",
              "        document.querySelector('#' + key + ' button');\n",
              "      quickchartButtonEl.disabled = true;  // To prevent multiple clicks.\n",
              "      quickchartButtonEl.classList.add('colab-df-spinner');\n",
              "      try {\n",
              "        const charts = await google.colab.kernel.invokeFunction(\n",
              "            'suggestCharts', [key], {});\n",
              "      } catch (error) {\n",
              "        console.error('Error during call to suggestCharts:', error);\n",
              "      }\n",
              "      quickchartButtonEl.classList.remove('colab-df-spinner');\n",
              "      quickchartButtonEl.classList.add('colab-df-quickchart-complete');\n",
              "    }\n",
              "    (() => {\n",
              "      let quickchartButtonEl =\n",
              "        document.querySelector('#df-87a1afc6-c2c1-49ce-95cb-b3af73942fc1 button');\n",
              "      quickchartButtonEl.style.display =\n",
              "        google.colab.kernel.accessAllowed ? 'block' : 'none';\n",
              "    })();\n",
              "  </script>\n",
              "</div>\n",
              "\n",
              "    </div>\n",
              "  </div>\n"
            ],
            "application/vnd.google.colaboratory.intrinsic+json": {
              "type": "dataframe",
              "variable_name": "query_df_unique",
              "summary": "{\n  \"name\": \"query_df_unique\",\n  \"rows\": 2,\n  \"fields\": [\n    {\n      \"column\": \"Query\",\n      \"properties\": {\n        \"dtype\": \"string\",\n        \"num_unique_values\": 2,\n        \"samples\": [\n          \"what is the difference between iphone and samsung galaxy?\",\n          \"history of la liga\"\n        ],\n        \"semantic_type\": \"\",\n        \"description\": \"\"\n      }\n    },\n    {\n      \"column\": \"Total Result Pool\",\n      \"properties\": {\n        \"dtype\": \"number\",\n        \"std\": 1,\n        \"min\": 60,\n        \"max\": 62,\n        \"num_unique_values\": 2,\n        \"samples\": [\n          62,\n          60\n        ],\n        \"semantic_type\": \"\",\n        \"description\": \"\"\n      }\n    },\n    {\n      \"column\": \"Relevant Link Pool\",\n      \"properties\": {\n        \"dtype\": \"number\",\n        \"std\": 18,\n        \"min\": 30,\n        \"max\": 56,\n        \"num_unique_values\": 2,\n        \"samples\": [\n          56,\n          30\n        ],\n        \"semantic_type\": \"\",\n        \"description\": \"\"\n      }\n    }\n  ]\n}"
            }
          },
          "metadata": {},
          "execution_count": 40
        }
      ]
    },
    {
      "cell_type": "markdown",
      "source": [
        "# Step 3 - Precision and Recall Calculation."
      ],
      "metadata": {
        "id": "GmR8mjBy5T_R"
      }
    },
    {
      "cell_type": "code",
      "source": [
        "# Convert to DataFrame\n",
        "query_df = pd.DataFrame(query_data)\n",
        "\n",
        "# Remove any duplicate queries (case-insensitive)\n",
        "query_df['Query'] = query_df['Query'].str.strip().str.lower()  # Normalize queries\n",
        "query_df_unique = query_df.drop_duplicates(subset=['Query'], keep='first')\n",
        "\n",
        "# Save to Excel\n",
        "output_file = \"/mnt/data/precision_recall_report.xlsx\"\n",
        "\n",
        "with pd.ExcelWriter(output_file, engine='openpyxl') as writer:\n",
        "    # Step 1: Save query data to Excel in \"Sheet 1\"\n",
        "    query_df_unique.to_excel(writer, sheet_name=\"Sheet 1\", index=False)\n",
        "\n",
        "# Interpolation and Precision-Recall Data Generation (Google vs Bing)\n",
        "standard_recall = np.arange(0.1, 1.1, 0.1)  # Standard recall values from 0.1 to 1.0 in increments of 0.1\n",
        "np.random.seed(42)\n",
        "\n",
        "# Generate dummy interpolated precision values for demonstration\n",
        "google_data = np.random.uniform(0.6, 1.0, (len(standard_recall), 4))  # Random precision data for Google\n",
        "bing_data = np.random.uniform(0.5, 0.9, (len(standard_recall), 4))  # Random precision data for Bing\n",
        "\n",
        "# Calculate the average precision for both search engines\n",
        "google_average = google_data.mean(axis=1)  # Google average precision\n",
        "bing_average = bing_data.mean(axis=1)  # Bing average precision\n",
        "\n",
        "# Save Precision-Recall Data to Excel\n",
        "precision_recall_df = pd.DataFrame({\n",
        "    'Standard Recall': standard_recall,\n",
        "    'Google, interpolated precision (Q1)': google_data[:, 0],\n",
        "    'Google, interpolated precision (Q2)': google_data[:, 1],\n",
        "    'Google, interpolated precision (Q3)': google_data[:, 2],\n",
        "    'Google, interpolated precision (Q4)': google_data[:, 3],\n",
        "    'Google, Average Precision': google_average,\n",
        "    'Bing, interpolated precision (Q1)': bing_data[:, 0],\n",
        "    'Bing, interpolated precision (Q2)': bing_data[:, 1],\n",
        "    'Bing, interpolated precision (Q3)': bing_data[:, 2],\n",
        "    'Bing, interpolated precision (Q4)': bing_data[:, 3],\n",
        "    'Bing, Average Precision': bing_average\n",
        "})\n",
        "\n",
        "with pd.ExcelWriter(output_file, engine='openpyxl', mode='a') as writer:\n",
        "    # Save precision-recall data to the second sheet\n",
        "    precision_recall_df.to_excel(writer, sheet_name=\"Precision-Recall Data\", index=False)"
      ],
      "metadata": {
        "id": "HFIKE3AfJY3U"
      },
      "execution_count": 38,
      "outputs": []
    },
    {
      "cell_type": "markdown",
      "source": [
        "# Step 4 - Interpolated Precision-Recall Curves"
      ],
      "metadata": {
        "id": "jhgf1WcvKmRk"
      }
    },
    {
      "cell_type": "code",
      "source": [
        "# Interpolate Precision\n",
        "google_interpolated = np.maximum.accumulate(google_average[::-1])[::-1]\n",
        "bing_interpolated = np.maximum.accumulate(bing_average[::-1])[::-1]\n",
        "\n",
        "# Generate Comparison Data\n",
        "comparison_data = {\n",
        "    'Recall': standard_recall,\n",
        "    'Google Precision': google_interpolated,\n",
        "    'Bing Precision': bing_interpolated\n",
        "}\n",
        "comparison_df = pd.DataFrame(comparison_data)\n",
        "\n",
        "# Plot the curves\n",
        "plt.figure(figsize=(8, 6))\n",
        "plt.plot(comparison_df['Recall'], comparison_df['Google Precision'], label=\"Google\", color='blue', marker='o')\n",
        "plt.plot(comparison_df['Recall'], comparison_df['Bing Precision'], label=\"Bing\", color='red', marker='x')\n",
        "plt.title('Interpolated Precision-Recall Curve Comparison (Google vs Bing)')\n",
        "plt.xlabel('Recall')\n",
        "plt.ylabel('Precision')\n",
        "plt.legend(loc='best')\n",
        "plt.grid(True)\n",
        "\n",
        "# Save the plot as an image file\n",
        "graph_image_path = '/mnt/data/precision_recall_curve.png'\n",
        "plt.savefig(graph_image_path)\n",
        "plt.close()\n",
        "\n",
        "# Load the workbook and insert the image into the Excel sheet\n",
        "wb = load_workbook(output_file)\n",
        "ws = wb[\"Precision-Recall Data\"]\n",
        "\n",
        "# Add the image to the sheet\n",
        "img = Image(graph_image_path)\n",
        "ws.add_image(img, 'E5')\n",
        "\n",
        "# Save the workbook with the image inserted\n",
        "wb.save(output_file)\n",
        "\n",
        "# Download the report and graph\n",
        "files.download(output_file)\n",
        "files.download(graph_image_path)"
      ],
      "metadata": {
        "colab": {
          "base_uri": "https://localhost:8080/",
          "height": 17
        },
        "id": "muDwzLWsKnlT",
        "outputId": "18762ec3-6d8e-40be-b27e-b745e18476e2"
      },
      "execution_count": 39,
      "outputs": [
        {
          "output_type": "display_data",
          "data": {
            "text/plain": [
              "<IPython.core.display.Javascript object>"
            ],
            "application/javascript": [
              "\n",
              "    async function download(id, filename, size) {\n",
              "      if (!google.colab.kernel.accessAllowed) {\n",
              "        return;\n",
              "      }\n",
              "      const div = document.createElement('div');\n",
              "      const label = document.createElement('label');\n",
              "      label.textContent = `Downloading \"${filename}\": `;\n",
              "      div.appendChild(label);\n",
              "      const progress = document.createElement('progress');\n",
              "      progress.max = size;\n",
              "      div.appendChild(progress);\n",
              "      document.body.appendChild(div);\n",
              "\n",
              "      const buffers = [];\n",
              "      let downloaded = 0;\n",
              "\n",
              "      const channel = await google.colab.kernel.comms.open(id);\n",
              "      // Send a message to notify the kernel that we're ready.\n",
              "      channel.send({})\n",
              "\n",
              "      for await (const message of channel.messages) {\n",
              "        // Send a message to notify the kernel that we're ready.\n",
              "        channel.send({})\n",
              "        if (message.buffers) {\n",
              "          for (const buffer of message.buffers) {\n",
              "            buffers.push(buffer);\n",
              "            downloaded += buffer.byteLength;\n",
              "            progress.value = downloaded;\n",
              "          }\n",
              "        }\n",
              "      }\n",
              "      const blob = new Blob(buffers, {type: 'application/binary'});\n",
              "      const a = document.createElement('a');\n",
              "      a.href = window.URL.createObjectURL(blob);\n",
              "      a.download = filename;\n",
              "      div.appendChild(a);\n",
              "      a.click();\n",
              "      div.remove();\n",
              "    }\n",
              "  "
            ]
          },
          "metadata": {}
        },
        {
          "output_type": "display_data",
          "data": {
            "text/plain": [
              "<IPython.core.display.Javascript object>"
            ],
            "application/javascript": [
              "download(\"download_f8365166-9cb2-425c-a6f2-4296cbfe8553\", \"precision_recall_report.xlsx\", 36699)"
            ]
          },
          "metadata": {}
        },
        {
          "output_type": "display_data",
          "data": {
            "text/plain": [
              "<IPython.core.display.Javascript object>"
            ],
            "application/javascript": [
              "\n",
              "    async function download(id, filename, size) {\n",
              "      if (!google.colab.kernel.accessAllowed) {\n",
              "        return;\n",
              "      }\n",
              "      const div = document.createElement('div');\n",
              "      const label = document.createElement('label');\n",
              "      label.textContent = `Downloading \"${filename}\": `;\n",
              "      div.appendChild(label);\n",
              "      const progress = document.createElement('progress');\n",
              "      progress.max = size;\n",
              "      div.appendChild(progress);\n",
              "      document.body.appendChild(div);\n",
              "\n",
              "      const buffers = [];\n",
              "      let downloaded = 0;\n",
              "\n",
              "      const channel = await google.colab.kernel.comms.open(id);\n",
              "      // Send a message to notify the kernel that we're ready.\n",
              "      channel.send({})\n",
              "\n",
              "      for await (const message of channel.messages) {\n",
              "        // Send a message to notify the kernel that we're ready.\n",
              "        channel.send({})\n",
              "        if (message.buffers) {\n",
              "          for (const buffer of message.buffers) {\n",
              "            buffers.push(buffer);\n",
              "            downloaded += buffer.byteLength;\n",
              "            progress.value = downloaded;\n",
              "          }\n",
              "        }\n",
              "      }\n",
              "      const blob = new Blob(buffers, {type: 'application/binary'});\n",
              "      const a = document.createElement('a');\n",
              "      a.href = window.URL.createObjectURL(blob);\n",
              "      a.download = filename;\n",
              "      div.appendChild(a);\n",
              "      a.click();\n",
              "      div.remove();\n",
              "    }\n",
              "  "
            ]
          },
          "metadata": {}
        },
        {
          "output_type": "display_data",
          "data": {
            "text/plain": [
              "<IPython.core.display.Javascript object>"
            ],
            "application/javascript": [
              "download(\"download_cbc533ce-4e35-438f-a58e-6bd4fff625bc\", \"precision_recall_curve.png\", 32598)"
            ]
          },
          "metadata": {}
        }
      ]
    },
    {
      "cell_type": "code",
      "source": [],
      "metadata": {
        "id": "13OdA4w9P8c-"
      },
      "execution_count": null,
      "outputs": []
    }
  ]
}